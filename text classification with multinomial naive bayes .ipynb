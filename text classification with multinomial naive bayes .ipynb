{
 "cells": [
  {
   "cell_type": "code",
   "execution_count": 46,
   "metadata": {},
   "outputs": [
    {
     "data": {
      "text/plain": [
       "\"It is important to note that for Multinomial Naive Bayes you will need enough data ideally not more that 10^4 (10,000) sentences with  various classes to increase it's accuracy\""
      ]
     },
     "execution_count": 46,
     "metadata": {},
     "output_type": "execute_result"
    }
   ],
   "source": [
    "# use natural language toolkit\n",
    "import nltk\n",
    "from nltk.corpus import stopwords\n",
    "from nltk.stem.lancaster import LancasterStemmer\n",
    "# word stemmer\n",
    "stemmer = LancasterStemmer()"
   ]
  },
  {
   "cell_type": "code",
   "execution_count": 17,
   "metadata": {},
   "outputs": [
    {
     "name": "stdout",
     "output_type": "stream",
     "text": [
      "12 sentences of training data \n"
     ]
    }
   ],
   "source": [
    "# 3 classes of training data\n",
    "training_data = []\n",
    "training_data.append({\"class\":\"greeting\", \"sentence\":\"how are you?\"})\n",
    "training_data.append({\"class\":\"greeting\", \"sentence\":\"how is your day?\"})\n",
    "training_data.append({\"class\":\"greeting\", \"sentence\":\"good day\"})\n",
    "training_data.append({\"class\":\"greeting\", \"sentence\":\"how is it going today?\"})\n",
    "\n",
    "training_data.append({\"class\":\"goodbye\", \"sentence\":\"have a nice day\"})\n",
    "training_data.append({\"class\":\"goodbye\", \"sentence\":\"see you later\"})\n",
    "training_data.append({\"class\":\"goodbye\", \"sentence\":\"have a nice day\"})\n",
    "training_data.append({\"class\":\"goodbye\", \"sentence\":\"talk to you soon\"})\n",
    "\n",
    "training_data.append({\"class\":\"MSBLQ\", \"sentence\":\"what is meristem stock brokers\"})\n",
    "training_data.append({\"class\":\"MSBLQ\", \"sentence\":\"what should i buy?\"})\n",
    "training_data.append({\"class\":\"MSBLQ\", \"sentence\":\"where is meristem located?\"})\n",
    "training_data.append({\"class\":\"MSBLQ\", \"sentence\":\"is meristem stockbrokers a licensed company?\"})\n",
    "print ('%s sentences of training data ' % len(training_data))"
   ]
  },
  {
   "cell_type": "code",
   "execution_count": 5,
   "metadata": {},
   "outputs": [
    {
     "name": "stdout",
     "output_type": "stream",
     "text": [
      "corpus words and count: {'how': 3, 'ar': 1, 'you': 3, 'is': 5, 'yo': 1, 'day': 4, 'good': 1, 'it': 1, 'going': 1, 'today': 1, 'hav': 2, 'a': 3, 'nic': 2, 'see': 1, 'lat': 1, 'talk': 1, 'to': 1, 'soon': 1, 'what': 2, 'meristem': 3, 'stock': 1, 'brok': 1, 'should': 1, 'i': 1, 'buy': 1, 'wher': 1, 'loc': 1, 'stockbrok': 1, 'licens': 1, 'company': 1} \n",
      "\n",
      "class words: {'MSBLQ': ['what', 'is', 'meristem', 'stock', 'brok', 'what', 'should', 'i', 'buy', 'wher', 'is', 'meristem', 'loc', 'is', 'meristem', 'stockbrok', 'a', 'licens', 'company'], 'greeting': ['how', 'ar', 'you', 'how', 'is', 'yo', 'day', 'good', 'day', 'how', 'is', 'it', 'going', 'today'], 'goodbye': ['hav', 'a', 'nic', 'day', 'see', 'you', 'lat', 'hav', 'a', 'nic', 'day', 'talk', 'to', 'you', 'soon']}\n"
     ]
    }
   ],
   "source": [
    "#lets try to tekenize and stem the words into different varaibles\n",
    "corpus_word = {}\n",
    "class_word = {}\n",
    "\n",
    "#lets bring out the attribute from the key-'class'\n",
    "classes = list(set([a['class'] for a in training_data]))\n",
    "\n",
    "#lets place the words in 'a' into the the dictionary class_word\n",
    "for c in classes:\n",
    "    class_word[c] = []\n",
    "\n",
    "#lets pull out the words in the sentence to tekenize and stem\n",
    "for data in training_data:\n",
    "    \n",
    "    #lets tokenize the data\n",
    "    for word in nltk.word_tokenize(data['sentence']):\n",
    "        \n",
    "        #lets remove '?' and 's'\n",
    "        if word not in ['?', 's']:\n",
    "            \n",
    "            #lets stem the words now\n",
    "            stemmed_word = stemmer.stem(word.lower())\n",
    "            \n",
    "            #lets see how many times the words occur and sum the count\n",
    "            if stemmed_word not in corpus_word:\n",
    "                corpus_word[stemmed_word] = 1\n",
    "            else:\n",
    "                corpus_word[stemmed_word] += 1\n",
    "                \n",
    "            #lets insert the stemmed words in the class words \n",
    "            class_word[data['class']].extend([stemmed_word])\n",
    "            \n",
    "#lets print the words and its counts and also the the class and the words under them\n",
    "print ('corpus words and count: %s \\n' % corpus_word)\n",
    "print ('class words: %s' % class_word)        "
   ]
  },
  {
   "cell_type": "code",
   "execution_count": 6,
   "metadata": {},
   "outputs": [],
   "source": [
    "#lets create a new sentence to see how accurate the prediction is\n",
    "sentence = 'how do i get to know about meristem stockbrokers?'\n",
    "\n",
    "#lets create a function to claculate the class score\n",
    "def calculate_class_score(sentence, c, show_details = True):\n",
    "    \n",
    "    #lets create an empty score \n",
    "    score = 0\n",
    "    \n",
    "    #lets tokenize and stem the words\n",
    "    for word in nltk.word_tokenize(sentence):\n",
    "        \n",
    "        #lets stem the words\n",
    "        if stemmer.stem(word.lower()) in class_word[c]:\n",
    "            \n",
    "            #add a to the score\n",
    "            score += 1\n",
    "        #else:\n",
    "            #score = 1\n",
    "        \n",
    "        #show the match   \n",
    "            if show_details:\n",
    "                print ('  Match: %s' % stemmer.stem(word.lower()))\n",
    "    return score\n"
   ]
  },
  {
   "cell_type": "code",
   "execution_count": 7,
   "metadata": {},
   "outputs": [
    {
     "name": "stdout",
     "output_type": "stream",
     "text": [
      "  Match: i\n",
      "  Match: meristem\n",
      "  Match: stockbrok\n",
      "Class: MSBLQ Score: 3 \n",
      "\n",
      "  Match: how\n",
      "Class: greeting Score: 1 \n",
      "\n",
      "  Match: to\n",
      "Class: goodbye Score: 1 \n",
      "\n"
     ]
    }
   ],
   "source": [
    "#lets get the class and the score\n",
    "for c in class_word.keys():\n",
    "    print ('Class: %s Score: %s \\n' % (c, calculate_class_score(sentence, c)))"
   ]
  },
  {
   "cell_type": "code",
   "execution_count": 8,
   "metadata": {},
   "outputs": [],
   "source": [
    "#create a function to calculate the score for commonality of words in a class\n",
    "def calculate_class_score_commonality(sentence, c, show_details = True):\n",
    "    \n",
    "    #calculate a score\n",
    "    score = 0\n",
    "    \n",
    "    #just as done earlier,lets tokenize and stem the sentence created earlier\n",
    "    \n",
    "    #lets tokenize and stem the words\n",
    "    for word in nltk.word_tokenize(sentence):\n",
    "        \n",
    "        #lets stem the words\n",
    "        if stemmer.stem(word.lower()) in class_word[c]:\n",
    "            \n",
    "            #lets score the words reducing the words with commonality\n",
    "            score += (1 / corpus_word[stemmer.stem(word.lower())])\n",
    "            \n",
    "            #lets match the score to the words\n",
    "            if show_details:\n",
    "                print (' Match: %s (%s)' % (stemmer.stem(word.lower()), 1 / corpus_word[stemmer.stem(word.lower())]))\n",
    "    return score"
   ]
  },
  {
   "cell_type": "code",
   "execution_count": 9,
   "metadata": {},
   "outputs": [
    {
     "name": "stdout",
     "output_type": "stream",
     "text": [
      " Match: i (1.0)\n",
      " Match: meristem (0.3333333333333333)\n",
      " Match: stockbrok (1.0)\n",
      "Class: MSBLQ Score: 2.333333333333333 \n",
      "\n",
      " Match: how (0.3333333333333333)\n",
      "Class: greeting Score: 0.3333333333333333 \n",
      "\n",
      " Match: to (1.0)\n",
      "Class: goodbye Score: 1.0 \n",
      "\n"
     ]
    }
   ],
   "source": [
    "#lets get the class and the commonality score\n",
    "for c in class_word.keys():\n",
    "    print ('Class: %s Score: %s \\n' % (c, calculate_class_score_commonality(sentence, c)))"
   ]
  },
  {
   "cell_type": "code",
   "execution_count": 24,
   "metadata": {},
   "outputs": [],
   "source": [
    "#lets define a function that will give the highest class and score\n",
    "def classify(sentence):\n",
    "    \n",
    "    #lets create variables for the high score and class\n",
    "    high_class = None\n",
    "    high_score = 0\n",
    "    \n",
    "    #lets create a loop for to pick out our class\n",
    "    for c in class_word.keys():\n",
    "        \n",
    "        #lets make a variable to put our previous commonality score claculation\n",
    "        score = calculate_class_score_commonality(sentence, c, show_details = False)\n",
    "        \n",
    "        #lets make a conditional statement to put the result in the high class and score\n",
    "        if score > high_score:\n",
    "            high_score = score\n",
    "            high_class = c\n",
    "            \n",
    "    return high_class, high_score\n",
    "    "
   ]
  },
  {
   "cell_type": "code",
   "execution_count": 15,
   "metadata": {},
   "outputs": [
    {
     "data": {
      "text/plain": [
       "(None, 0)"
      ]
     },
     "execution_count": 15,
     "metadata": {},
     "output_type": "execute_result"
    }
   ],
   "source": [
    "classify('david')"
   ]
  },
  {
   "cell_type": "code",
   "execution_count": 16,
   "metadata": {},
   "outputs": [
    {
     "data": {
      "text/plain": [
       "('MSBLQ', 2.533333333333333)"
      ]
     },
     "execution_count": 16,
     "metadata": {},
     "output_type": "execute_result"
    }
   ],
   "source": [
    "classify('where is meristem brokers situated?')"
   ]
  },
  {
   "cell_type": "code",
   "execution_count": 18,
   "metadata": {},
   "outputs": [
    {
     "data": {
      "text/plain": [
       "('greeting', 1.25)"
      ]
     },
     "execution_count": 18,
     "metadata": {},
     "output_type": "execute_result"
    }
   ],
   "source": [
    "classify('good day')"
   ]
  },
  {
   "cell_type": "code",
   "execution_count": 20,
   "metadata": {},
   "outputs": [
    {
     "data": {
      "text/plain": [
       "('greeting', 2.783333333333333)"
      ]
     },
     "execution_count": 20,
     "metadata": {},
     "output_type": "execute_result"
    }
   ],
   "source": [
    "classify('how is your day going')"
   ]
  },
  {
   "cell_type": "code",
   "execution_count": 27,
   "metadata": {},
   "outputs": [
    {
     "data": {
      "text/plain": [
       "('greeting', 1.3333333333333333)"
      ]
     },
     "execution_count": 27,
     "metadata": {},
     "output_type": "execute_result"
    }
   ],
   "source": [
    "classify('hope you are well?')"
   ]
  },
  {
   "cell_type": "code",
   "execution_count": null,
   "metadata": {},
   "outputs": [],
   "source": [
    "\n"
   ]
  },
  {
   "cell_type": "code",
   "execution_count": null,
   "metadata": {},
   "outputs": [],
   "source": []
  },
  {
   "cell_type": "code",
   "execution_count": null,
   "metadata": {},
   "outputs": [],
   "source": []
  },
  {
   "cell_type": "code",
   "execution_count": null,
   "metadata": {},
   "outputs": [],
   "source": []
  },
  {
   "cell_type": "code",
   "execution_count": null,
   "metadata": {},
   "outputs": [],
   "source": []
  },
  {
   "cell_type": "code",
   "execution_count": null,
   "metadata": {},
   "outputs": [],
   "source": []
  },
  {
   "cell_type": "code",
   "execution_count": null,
   "metadata": {},
   "outputs": [],
   "source": []
  },
  {
   "cell_type": "code",
   "execution_count": null,
   "metadata": {},
   "outputs": [],
   "source": []
  }
 ],
 "metadata": {
  "kernelspec": {
   "display_name": "Python 3",
   "language": "python",
   "name": "python3"
  },
  "language_info": {
   "codemirror_mode": {
    "name": "ipython",
    "version": 3
   },
   "file_extension": ".py",
   "mimetype": "text/x-python",
   "name": "python",
   "nbconvert_exporter": "python",
   "pygments_lexer": "ipython3",
   "version": "3.6.4"
  }
 },
 "nbformat": 4,
 "nbformat_minor": 2
}
